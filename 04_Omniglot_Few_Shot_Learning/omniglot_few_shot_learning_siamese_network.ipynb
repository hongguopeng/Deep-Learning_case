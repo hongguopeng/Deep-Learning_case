{
 "cells": [
  {
   "cell_type": "markdown",
   "metadata": {},
   "source": [
    "<img src=\"siamese_network.png\" style=\"width:238px;height:150px;float:middle\">\n",
    "以上為siamese network的計算流程<br>"
   ]
  },
  {
   "cell_type": "markdown",
   "metadata": {},
   "source": [
    "### 請解壓縮data.rar，取得本程式之數據"
   ]
  },
  {
   "cell_type": "code",
   "execution_count": 1,
   "metadata": {},
   "outputs": [
    {
     "name": "stderr",
     "output_type": "stream",
     "text": [
      "C:\\Users\\hong guo peng\\Anaconda3\\lib\\site-packages\\h5py\\__init__.py:36: FutureWarning: Conversion of the second argument of issubdtype from `float` to `np.floating` is deprecated. In future, it will be treated as `np.float64 == np.dtype(float).type`.\n",
      "  from ._conv import register_converters as _register_converters\n",
      "Using TensorFlow backend.\n"
     ]
    }
   ],
   "source": [
    "import tensorflow as tf\n",
    "import numpy as np\n",
    "import matplotlib.pyplot as plt\n",
    "from keras.preprocessing.image import ImageDataGenerator\n",
    "import os\n",
    "from PIL import Image"
   ]
  },
  {
   "cell_type": "code",
   "execution_count": 2,
   "metadata": {},
   "outputs": [],
   "source": [
    "examples_num = 20\n",
    "img_width , img_height , channels = 28 , 28 , 1\n",
    "way_num = 60\n",
    "base_num = 5\n",
    "input_num = 7"
   ]
  },
  {
   "cell_type": "code",
   "execution_count": 3,
   "metadata": {},
   "outputs": [],
   "source": [
    "# Load Dataset\n",
    "def load_data(root_dir):\n",
    "    img_dirs = []\n",
    "    for folder in os.listdir(root_dir):\n",
    "        for character_folder in os.listdir(root_dir + '/{}'.format(folder)):\n",
    "            img_dirs.append(os.path.join(root_dir , folder , character_folder))\n",
    "\n",
    "    dataset = np.zeros([len(img_dirs) , examples_num , img_height , img_width] , dtype = np.float32)\n",
    "    for i , folder in enumerate(img_dirs):\n",
    "        for j , file in enumerate(os.listdir(folder)):\n",
    "            imagePath = os.path.join(folder , file)\n",
    "            image = Image.open(imagePath).resize((img_width , img_height))\n",
    "            values = 1. - np.array(image , np.float32)\n",
    "            dataset[i , j , : , :] = values\n",
    "\n",
    "    return dataset\n",
    "\n",
    "train_dataset = load_data('./data/training_image')\n",
    "test_dataset = load_data('./data/testing_image')"
   ]
  },
  {
   "cell_type": "code",
   "execution_count": 4,
   "metadata": {},
   "outputs": [],
   "source": [
    "aug = ImageDataGenerator(rotation_range = 25,\n",
    "                         width_shift_range = 0.1,\n",
    "                         height_shift_range = 0.1 ,\n",
    "                         shear_range = 0.2 ,\n",
    "                         zoom_range = 0.2,\n",
    "                         fill_mode = 'nearest')\n",
    "\n",
    "def get_batch(data , way_num = 60 , input_num = 7 , base_num = 5):\n",
    "\n",
    "    class_indices = np.random.choice(np.arange(len(data)) ,\n",
    "                                     size = way_num ,\n",
    "                                     replace = False)\n",
    "\n",
    "    base_image_set = None\n",
    "    input_image_set = None\n",
    "    input_label_set = None\n",
    "    for i , class_index in enumerate(class_indices):\n",
    "\n",
    "        class_image = np.reshape(data[class_index] , [20 , 28 , 28 , 1])\n",
    "        augmentation_data = aug.flow(np.reshape(class_image , [-1 , 28 , 28 , 1]) , np.arange(20))\n",
    "        class_image = augmentation_data[0][0]\n",
    "\n",
    "        sample_index = np.random.choice(np.arange(20) ,\n",
    "                                        size = input_num + base_num ,\n",
    "                                        replace = False)\n",
    "\n",
    "        # base_image → [1 , 5 , 28 , 28 , 1]\n",
    "        base_index = sample_index[:base_num]\n",
    "        base_image = np.reshape(class_image[base_index] , [1 , base_num , 28 , 28 , 1])\n",
    "        if base_image_set is None:\n",
    "            base_image_set = base_image\n",
    "        else:\n",
    "            # base_image_set → [60 , 5 , 28 , 28 , 1] (執行迴圈60次，沿著axis 0，將base_image堆疊60次)\n",
    "            # 總共60個class，每1個class有5張image\n",
    "            base_image_set = np.concatenate([base_image_set , base_image] , axis = 0)\n",
    "\n",
    "        input_index = sample_index[-input_num:]\n",
    "        # input_image → [7 , 28 , 28 , 1]\n",
    "        input_image = np.reshape(class_image[input_index] , [1 , input_num , 28 , 28 , 1])\n",
    "        if input_image_set is None:\n",
    "            input_image_set = input_image\n",
    "        else:\n",
    "            # input_image_set → [60 , 7 , 28 , 28 , 1] (執行迴圈60次，沿著axis 0，將input_image堆疊60次)\n",
    "            # 總共60個class，每1個class有7張image\n",
    "            input_image_set = np.concatenate([input_image_set , input_image] , axis = 0)\n",
    "\n",
    "        # input_label → [1 , 7 , 60]\n",
    "        # class 0的input_label[: , : , 0] = 1\n",
    "        # class 為1的input_label[: , : , 1] = 1\n",
    "        #                   ...\n",
    "        # class 為59的input_label[: , : , 60] = 1\n",
    "        input_label = np.zeros([1 , input_num , way_num])\n",
    "        input_label[: , : , i] = 1\n",
    "        if input_label_set is None:\n",
    "            input_label_set = input_label\n",
    "        else:\n",
    "            # input_label_set → [60 , 7 , 60] (執行迴圈60次，沿著axis 0，將input_label堆疊60次)\n",
    "            # 總共60個class，每1個class含有相同的7個相同的label，而每1個label的one-hot的深度當然為60\n",
    "            input_label_set = np.concatenate([input_label_set , input_label] , axis = 0)\n",
    "\n",
    "    return base_image_set , input_image_set , input_label_set"
   ]
  },
  {
   "cell_type": "code",
   "execution_count": 5,
   "metadata": {},
   "outputs": [],
   "source": [
    "input_image = tf.placeholder(tf.float32 , [way_num , input_num , 28 , 28 , 1])\n",
    "input_image_ = tf.reshape(input_image , [-1 , 28 , 28 , 1])\n",
    "\n",
    "base_image = tf.placeholder(tf.float32 , [way_num , base_num , 28 , 28 , 1])\n",
    "base_image_ = tf.reshape(base_image , [-1 , 28 , 28 , 1])\n",
    "\n",
    "y_true = tf.placeholder(tf.float32 , [way_num , input_num , way_num])\n",
    "y_true_ = tf.reshape(y_true , [-1 , way_num])\n",
    "\n",
    "on_train = tf.placeholder(tf.bool)"
   ]
  },
  {
   "cell_type": "code",
   "execution_count": 6,
   "metadata": {},
   "outputs": [],
   "source": [
    "def batch_norm_layer_part1(inputs , on_train , convolution):\n",
    "    # the dimension you wanna normalize, here [0] for batch\n",
    "    # for image, you wanna do [0 , 1 , 2] for [batch , height , width] but not channel\n",
    "    if convolution:\n",
    "        fc_mean , fc_var = tf.nn.moments(inputs , axes = [0 , 1 , 2] , name = 'mean_var')\n",
    "    else:\n",
    "        fc_mean , fc_var = tf.nn.moments(inputs , axes = [0] , name = 'mean_var')\n",
    "\n",
    "    ema = tf.train.ExponentialMovingAverage(decay = 0.99)\n",
    "    ema_apply_op = ema.apply([fc_mean , fc_var])\n",
    "    mean = tf.cond(on_train , lambda : fc_mean , lambda : ema.average(fc_mean))\n",
    "    var = tf.cond(on_train , lambda : fc_var , lambda : ema.average(fc_var))\n",
    "    return mean , var , ema_apply_op\n",
    "\n",
    "def batch_norm_layer_part2(inputs , mean , var):\n",
    "    initializer = tf.contrib.layers.xavier_initializer()\n",
    "    scale = tf.get_variable(initializer = tf.ones([1 , inputs.shape[-1].value]) , name = 'scale')\n",
    "    shift = tf.get_variable(initializer = tf.zeros([1 , inputs.shape[-1].value]) , name = 'shift')\n",
    "    temp = (inputs - mean) / tf.sqrt(var + 1e-8)\n",
    "    outputs = tf.multiply(temp , scale) + shift\n",
    "    return outputs"
   ]
  },
  {
   "cell_type": "code",
   "execution_count": 7,
   "metadata": {},
   "outputs": [],
   "source": [
    "def feature_extractor(input_ , reuse = False):\n",
    "    \n",
    "    #------------------------------conv_layer------------------------------#\n",
    "    ema_list = []\n",
    "    for i in range(1 , 6):\n",
    "        with tf.variable_scope('conv{}'.format(i)) as scope:\n",
    "            if reuse : tf.get_variable_scope().reuse_variables()\n",
    "            conv_output = tf.contrib.layers.conv2d(input_ , 64 , [3 , 3] ,\n",
    "                                                   activation_fn = tf.nn.relu , padding='SAME' ,\n",
    "                                                   weights_initializer = tf.contrib.layers.xavier_initializer_conv2d())\n",
    "    \n",
    "        with tf.variable_scope('conv{}_compute_mean_var'.format(i)):\n",
    "            conv_mean , conv_var , conv_ema = batch_norm_layer_part1(conv_output , on_train , True)\n",
    "    \n",
    "        with tf.variable_scope(scope):\n",
    "            conv_bn = batch_norm_layer_part2(conv_output , conv_mean , conv_var)\n",
    "            conv_pooling = tf.contrib.layers.max_pool2d(conv_bn , [2 , 2] , padding = 'SAME')\n",
    "\n",
    "        input_ = conv_pooling\n",
    "        ema_list.append(conv_ema)\n",
    "\n",
    "    update_ema = tf.group(ema_list)\n",
    "    #------------------------------conv_layer------------------------------#\n",
    "    \n",
    "\n",
    "    #------------------------------flatten_layer------------------------------#\n",
    "    with tf.variable_scope('flatten'):\n",
    "        output_flatten = tf.contrib.layers.flatten(input_)\n",
    "    #------------------------------flatten_layer------------------------------#\n",
    "        \n",
    "    return output_flatten , update_ema"
   ]
  },
  {
   "cell_type": "code",
   "execution_count": 8,
   "metadata": {},
   "outputs": [],
   "source": [
    "with tf.variable_scope('feature_extractor'):\n",
    "    # embedding_input → [60 * 7 , 64]\n",
    "    embedding_input , ema_input = feature_extractor(input_image_ , reuse = False)\n",
    "    # embedding_input → [60 , 60 * 7 , 64]\n",
    "    embedding_input_copy = tf.tile(tf.expand_dims(embedding_input , axis = 0) , [way_num , 1 , 1])\n",
    "\n",
    "    # embedding_base → [60 , 5 , 64]    \n",
    "    embedding_base , ema_base = feature_extractor(base_image_ , reuse = True)\n",
    "    embedding_base = tf.reshape(embedding_base , [-1 , base_num , embedding_base.shape[-1].value])\n",
    "    # embedding_base_mean → [60 , 64]  \n",
    "    embedding_base_mean = tf.reduce_mean(embedding_base , axis = 1)\n",
    "    # embedding_base_copy → [60 , 60 * 7 , 64] \n",
    "    embedding_base_copy = tf.tile(tf.expand_dims(embedding_base_mean , axis = 1) , [1 , way_num * input_num , 1])\n",
    "\n",
    "    update_ema = tf.group([ema_input , ema_base])\n",
    "\n",
    "\n",
    "with tf.variable_scope('euclidean_distance'):\n",
    "    distance = tf.reduce_sum(tf.pow(embedding_base_copy - embedding_input_copy , 2) , axis = -1)\n",
    "    distance = tf.transpose(distance , [1 , 0])\n",
    "    distance = tf.sqrt(tf.maximum(distance , 1e-9))\n",
    "\n",
    "    \n",
    "with tf.variable_scope('contrastive_loss'):\n",
    "    margin = 4\n",
    "    decision_similarity = y_true_\n",
    "    similarity = tf.multiply(decision_similarity , tf.square(distance))\n",
    "    dissimilarity = tf.multiply(1 - decision_similarity , tf.square(tf.maximum(margin - distance , 0)))\n",
    "    contrastive_loss = tf.reduce_mean(similarity + dissimilarity)\n",
    "    \n",
    "    \n",
    "with tf.variable_scope('optimizer'):\n",
    "    train_op = tf.train.AdamOptimizer(1e-3).minimize(contrastive_loss)\n",
    "    \n",
    "    \n",
    "with tf.variable_scope('accuracy'):    \n",
    "    correct = tf.equal(tf.argmin(distance , 1) , tf.argmax(y_true_ , 1))\n",
    "    correct = tf.cast(correct , tf.float32)\n",
    "    accuracy = tf.reduce_mean(correct)"
   ]
  },
  {
   "cell_type": "code",
   "execution_count": 9,
   "metadata": {},
   "outputs": [
    {
     "name": "stdout",
     "output_type": "stream",
     "text": [
      "==============================\n",
      "batch_i : 0\n",
      "training_loss : 1.4197\n",
      "training_accuracy : 8.81%\n",
      "******************************\n",
      "testing_loss : 15375825920.0000\n",
      "testing_accuracy : 14.52%\n",
      "\n",
      "==============================\n",
      "batch_i : 160\n",
      "training_loss : 0.1457\n",
      "training_accuracy : 80.00%\n",
      "******************************\n",
      "testing_loss : 0.3814\n",
      "testing_accuracy : 56.90%\n",
      "\n",
      "==============================\n",
      "batch_i : 320\n",
      "training_loss : 0.1246\n",
      "training_accuracy : 84.52%\n",
      "******************************\n",
      "testing_loss : 0.1677\n",
      "testing_accuracy : 74.05%\n",
      "\n",
      "==============================\n",
      "batch_i : 480\n",
      "training_loss : 0.1153\n",
      "training_accuracy : 86.67%\n",
      "******************************\n",
      "testing_loss : 0.1548\n",
      "testing_accuracy : 75.48%\n",
      "\n",
      "==============================\n",
      "batch_i : 640\n",
      "training_loss : 0.1187\n",
      "training_accuracy : 85.48%\n",
      "******************************\n",
      "testing_loss : 0.1534\n",
      "testing_accuracy : 81.67%\n",
      "\n",
      "==============================\n",
      "batch_i : 800\n",
      "training_loss : 0.0970\n",
      "training_accuracy : 91.67%\n",
      "******************************\n",
      "testing_loss : 0.1313\n",
      "testing_accuracy : 82.38%\n",
      "\n",
      "==============================\n",
      "batch_i : 960\n",
      "training_loss : 0.1000\n",
      "training_accuracy : 91.19%\n",
      "******************************\n",
      "testing_loss : 0.1216\n",
      "testing_accuracy : 86.90%\n",
      "\n",
      "==============================\n",
      "batch_i : 1120\n",
      "training_loss : 0.0907\n",
      "training_accuracy : 91.67%\n",
      "******************************\n",
      "testing_loss : 0.1267\n",
      "testing_accuracy : 85.24%\n",
      "\n",
      "==============================\n",
      "batch_i : 1280\n",
      "training_loss : 0.0992\n",
      "training_accuracy : 91.19%\n",
      "******************************\n",
      "testing_loss : 0.1283\n",
      "testing_accuracy : 83.81%\n",
      "\n",
      "==============================\n",
      "batch_i : 1440\n",
      "training_loss : 0.0872\n",
      "training_accuracy : 93.57%\n",
      "******************************\n",
      "testing_loss : 0.1386\n",
      "testing_accuracy : 86.19%\n",
      "\n",
      "==============================\n",
      "batch_i : 1600\n",
      "training_loss : 0.0858\n",
      "training_accuracy : 94.52%\n",
      "******************************\n",
      "testing_loss : 0.1425\n",
      "testing_accuracy : 87.62%\n",
      "\n",
      "==============================\n",
      "batch_i : 1760\n",
      "training_loss : 0.0864\n",
      "training_accuracy : 93.33%\n",
      "******************************\n",
      "testing_loss : 0.1555\n",
      "testing_accuracy : 87.38%\n",
      "\n",
      "==============================\n",
      "batch_i : 1920\n",
      "training_loss : 0.0897\n",
      "training_accuracy : 93.57%\n",
      "******************************\n",
      "testing_loss : 0.1321\n",
      "testing_accuracy : 86.19%\n",
      "\n",
      "==============================\n",
      "batch_i : 2080\n",
      "training_loss : 0.0895\n",
      "training_accuracy : 93.81%\n",
      "******************************\n",
      "testing_loss : 0.1100\n",
      "testing_accuracy : 88.33%\n",
      "\n",
      "==============================\n",
      "batch_i : 2240\n",
      "training_loss : 0.0835\n",
      "training_accuracy : 94.05%\n",
      "******************************\n",
      "testing_loss : 0.1347\n",
      "testing_accuracy : 88.10%\n",
      "\n",
      "==============================\n",
      "batch_i : 2400\n",
      "training_loss : 0.0880\n",
      "training_accuracy : 90.71%\n",
      "******************************\n",
      "testing_loss : 0.1373\n",
      "testing_accuracy : 86.43%\n",
      "\n",
      "==============================\n",
      "batch_i : 2560\n",
      "training_loss : 0.0786\n",
      "training_accuracy : 96.90%\n",
      "******************************\n",
      "testing_loss : 0.1416\n",
      "testing_accuracy : 85.48%\n",
      "\n",
      "==============================\n",
      "batch_i : 2720\n",
      "training_loss : 0.0767\n",
      "training_accuracy : 97.38%\n",
      "******************************\n",
      "testing_loss : 0.1274\n",
      "testing_accuracy : 87.14%\n",
      "\n",
      "==============================\n",
      "batch_i : 2880\n",
      "training_loss : 0.0771\n",
      "training_accuracy : 94.29%\n",
      "******************************\n",
      "testing_loss : 0.1148\n",
      "testing_accuracy : 88.33%\n",
      "\n",
      "==============================\n",
      "batch_i : 3040\n",
      "training_loss : 0.0787\n",
      "training_accuracy : 95.00%\n",
      "******************************\n",
      "testing_loss : 0.1131\n",
      "testing_accuracy : 89.29%\n",
      "\n"
     ]
    }
   ],
   "source": [
    "sess = tf.Session()\n",
    "sess.run(tf.global_variables_initializer())\n",
    "\n",
    "embedding_vector_list = []\n",
    "for batch_i in range(0 , 3200):\n",
    "    base_image_batch , input_image_batch , input_label_batch = get_batch(train_dataset)\n",
    "\n",
    "    _  , _ , train_loss , train_accuracy = sess.run([train_op , update_ema , contrastive_loss , accuracy] ,\n",
    "                                                     feed_dict = {input_image : input_image_batch ,\n",
    "                                                                  y_true : input_label_batch ,\n",
    "                                                                  base_image : base_image_batch ,\n",
    "                                                                  on_train : True})\n",
    "    \n",
    "    if batch_i % 160 == 0:\n",
    "        print('=' * 30)\n",
    "        print('batch_i : {}'.format(batch_i))\n",
    "        print('training_loss : {:.4f}'.format(train_loss))\n",
    "        print('training_accuracy : {:.2%}'.format(train_accuracy))\n",
    "\n",
    "        base_image_test , input_image_test , input_label_test = get_batch(test_dataset)\n",
    "        test_loss , test_accuracy =  sess.run([contrastive_loss , accuracy] ,\n",
    "                                              feed_dict = {input_image : input_image_test ,\n",
    "                                                           y_true : input_label_test ,\n",
    "                                                           base_image : base_image_test ,\n",
    "                                                           on_train : False})\n",
    "        print('*' * 30)\n",
    "        print('testing_loss : {:.4f}'.format(test_loss))\n",
    "        print('testing_accuracy : {:.2%}\\n'.format(test_accuracy))"
   ]
  },
  {
   "cell_type": "markdown",
   "metadata": {},
   "source": [
    "### image檢索 → 要從input_image_search中找出與base_image_search最相近的35張image"
   ]
  },
  {
   "cell_type": "code",
   "execution_count": 10,
   "metadata": {},
   "outputs": [
    {
     "data": {
      "image/png": "[encoded data removed]",
      "text/plain": [
       "<Figure size 216x216 with 1 Axes>"
      ]
     },
     "metadata": {
      "needs_background": "light"
     },
     "output_type": "display_data"
    }
   ],
   "source": [
    "search_index = 0\n",
    "\n",
    "fig, ax = plt.subplots(1 , 1 , figsize = (3 , 3))\n",
    "ax.imshow(test_dataset[search_index , -1 , : , : ])\n",
    "\n",
    "# base_image_search就是從test_dataset[search_index , : , : , :]中挑出前base_num張image接著複製120次(對應input_image_search的way_num種image)\n",
    "# 最後計算這base_num張image的embedding vector的平均\n",
    "base_image_search = np.tile(np.expand_dims(test_dataset[search_index , :base_num , : , :] , axis = -1) ,\n",
    "                            [way_num , 1 , 1 , 1 , 1])\n",
    "\n",
    "# input_image_search就是從test_dataset挑出way_num種image，再從每種image挑出input_num張image\n",
    "# 最後計算這(way_num*input_num)張image的embedding vector\n",
    "input_image_search = np.expand_dims(test_dataset[:way_num , base_num : base_num + input_num , : , :] , axis = -1)\n",
    "\n",
    "# 計算base_image_search與input_image_search各自轉換的embedding vector的距離\n",
    "search_distance = sess.run(distance , feed_dict = {input_image : input_image_search ,\n",
    "                                                   base_image : base_image_search ,\n",
    "                                                   on_train : False})"
   ]
  },
  {
   "cell_type": "code",
   "execution_count": 11,
   "metadata": {},
   "outputs": [
    {
     "data": {
      "image/png": "[encoded data removed]",
      "text/plain": [
       "<Figure size 1440x720 with 35 Axes>"
      ]
     },
     "metadata": {},
     "output_type": "display_data"
    }
   ],
   "source": [
    "input_image_search_reshape = np.reshape(input_image_search , [-1 , 28 , 28 , 1])\n",
    "\n",
    "# 並取出距離最短的前35名的index，即為top_35\n",
    "top_35 = search_distance[: , 0].argsort()[:35]\n",
    "\n",
    "fig , ax = plt.subplots(5 , 7 , figsize = (20 , 10))\n",
    "plt.subplots_adjust(wspace = 0.1 , hspace = 0.5)\n",
    "for i in range(0 , 5):\n",
    "    for j in range(0 , 7):\n",
    "        index = top_35[7 * i + j]\n",
    "        ax[i , j].imshow(input_image_search_reshape[index , : , : , 0])\n",
    "        ax[i , j].set_title('rank : {}'.format(7 * i + j + 1) , size = 13)\n",
    "        ax[i , j].set_xticks([])\n",
    "        ax[i , j].set_yticks([])"
   ]
  },
  {
   "cell_type": "code",
   "execution_count": 12,
   "metadata": {},
   "outputs": [
    {
     "data": {
      "image/png": "[encoded data removed]",
      "text/plain": [
       "<Figure size 216x216 with 1 Axes>"
      ]
     },
     "metadata": {
      "needs_background": "light"
     },
     "output_type": "display_data"
    }
   ],
   "source": [
    "search_index = 5\n",
    "\n",
    "fig, ax = plt.subplots(1 , 1 , figsize = (3 , 3))\n",
    "ax.imshow(test_dataset[search_index , -1 , : , : ])\n",
    "\n",
    "# base_image_search就是從test_dataset[search_index , : , : , :]中挑出前base_num張image接著複製120次(對應input_image_search的way_num種image)\n",
    "# 最後計算這base_num張image的embedding vector的平均\n",
    "base_image_search = np.tile(np.expand_dims(test_dataset[search_index , :base_num , : , :] , axis = -1) ,\n",
    "                            [way_num , 1 , 1 , 1 , 1])\n",
    "\n",
    "# input_image_search就是從test_dataset挑出way_num種image，再從每1種image挑出input_num張image\n",
    "# 最後計算這(way_num*input_num)張image的embedding vector\n",
    "input_image_search = np.expand_dims(test_dataset[:way_num , base_num : base_num + input_num , : , :] , axis = -1)\n",
    "\n",
    "# 計算base_image_search與input_image_search各自轉換的embedding vector的距離\n",
    "search_distance = sess.run(distance , feed_dict = {input_image : input_image_search ,\n",
    "                                                   base_image : base_image_search ,\n",
    "                                                   on_train : False})"
   ]
  },
  {
   "cell_type": "code",
   "execution_count": 13,
   "metadata": {},
   "outputs": [
    {
     "data": {
      "image/png": "[encoded data removed]",
      "text/plain": [
       "<Figure size 1440x720 with 35 Axes>"
      ]
     },
     "metadata": {},
     "output_type": "display_data"
    }
   ],
   "source": [
    "input_image_search_reshape = np.reshape(input_image_search , [-1 , 28 , 28 , 1])\n",
    "\n",
    "# 並取出距離最短的前35名的index，即為top_35\n",
    "top_35 = search_distance[: , 0].argsort()[:35]\n",
    "\n",
    "fig , ax = plt.subplots(5 , 7 , figsize = (20 , 10))\n",
    "plt.subplots_adjust(wspace = 0.1 , hspace = 0.5)\n",
    "for i in range(0 , 5):\n",
    "    for j in range(0 , 7):\n",
    "        index = top_35[7 * i + j]\n",
    "        ax[i , j].imshow(input_image_search_reshape[index , : , : , 0])\n",
    "        ax[i , j].set_title('rank : {}'.format(7 * i + j + 1) , size = 13)\n",
    "        ax[i , j].set_xticks([])\n",
    "        ax[i , j].set_yticks([])"
   ]
  },
  {
   "cell_type": "markdown",
   "metadata": {},
   "source": [
    "### 從test_dataset挑出一些有相似特徵的image"
   ]
  },
  {
   "cell_type": "markdown",
   "metadata": {},
   "source": [
    "可以從結果發現不同種類的image所計算的平均embedding vector的距離越小 越會有相同的特徵"
   ]
  },
  {
   "cell_type": "code",
   "execution_count": 14,
   "metadata": {},
   "outputs": [
    {
     "data": {
      "image/png": "[encoded data removed]",
      "text/plain": [
       "<Figure size 1440x720 with 25 Axes>"
      ]
     },
     "metadata": {},
     "output_type": "display_data"
    }
   ],
   "source": [
    "base_image_search = np.expand_dims(test_dataset[:way_num , :base_num , : , :] , axis = -1)\n",
    "\n",
    "# 計算base_image_search中每1種image的embedding vector的平均\n",
    "embedding_base_vector = sess.run(embedding_base_mean , feed_dict = {base_image : base_image_search ,\n",
    "                                                                    on_train : False})\n",
    "\n",
    "# 計算embedding_base_vector[search_index , :]與每1種embedding_base_vector[i , :]的距離\n",
    "search_index = 4\n",
    "distance_set = np.zeros(way_num)\n",
    "for i in range(0 , way_num):\n",
    "    diff_vector = embedding_base_vector[search_index , :] - embedding_base_vector[i , :]\n",
    "    search_distance = np.linalg.norm(diff_vector)\n",
    "    distance_set[i] = search_distance\n",
    "\n",
    "# 並取出距離最短的前25名的index，即為top_25   \n",
    "top_25 = distance_set.argsort()[:25]\n",
    "\n",
    "fig , ax = plt.subplots(5 , 5 , figsize = (20 , 10))\n",
    "plt.subplots_adjust(wspace = 0.1 , hspace = 0.5)\n",
    "for i in range(0 , 5):\n",
    "    for j in range(0 , 5):\n",
    "        index = top_25[5 * i + j]\n",
    "        ax[i , j].imshow(base_image_search[index , 0 , : , : , 0])\n",
    "        ax[i , j].set_title('rank : {}'.format(5 * i + j + 1) , size = 13)\n",
    "        ax[i , j].set_xticks([])\n",
    "        ax[i , j].set_yticks([])    "
   ]
  },
  {
   "cell_type": "code",
   "execution_count": 15,
   "metadata": {},
   "outputs": [
    {
     "data": {
      "image/png": "[encoded data removed]",
      "text/plain": [
       "<Figure size 1440x720 with 25 Axes>"
      ]
     },
     "metadata": {},
     "output_type": "display_data"
    }
   ],
   "source": [
    "base_image_search = np.expand_dims(test_dataset[:way_num , :base_num , : , :] , axis = -1)\n",
    "\n",
    "# 計算base_image_search中每1種image的embedding vector的平均\n",
    "embedding_base_vector = sess.run(embedding_base_mean , feed_dict = {base_image : base_image_search ,\n",
    "                                                                    on_train : False})\n",
    "\n",
    "# 計算embedding_base_vector[search_index , :]與每1種embedding_base_vector[i , :]的距離\n",
    "search_index = 8\n",
    "distance_set = np.zeros(way_num)\n",
    "for i in range(0 , way_num):\n",
    "    diff_vector = embedding_base_vector[search_index , :] - embedding_base_vector[i , :]\n",
    "    search_distance = np.linalg.norm(diff_vector)\n",
    "    distance_set[i] = search_distance\n",
    "\n",
    "# 並取出距離最短的前25名的index，即為top_25 \n",
    "top_25 = distance_set.argsort()[:25]\n",
    "\n",
    "fig , ax = plt.subplots(5 , 5 , figsize = (20 , 10))\n",
    "plt.subplots_adjust(wspace = 0.1 , hspace = 0.5)\n",
    "for i in range(0 , 5):\n",
    "    for j in range(0 , 5):\n",
    "        index = top_25[5 * i + j]\n",
    "        ax[i , j].imshow(base_image_search[index , 0 , : , : , 0])\n",
    "        ax[i , j].set_title('rank : {}'.format(5 * i + j + 1) , size = 13)\n",
    "        ax[i , j].set_xticks([])\n",
    "        ax[i , j].set_yticks([])    "
   ]
  }
 ],
 "metadata": {
  "kernelspec": {
   "display_name": "Python 3",
   "language": "python",
   "name": "python3"
  },
  "language_info": {
   "codemirror_mode": {
    "name": "ipython",
    "version": 3
   },
   "file_extension": ".py",
   "mimetype": "text/x-python",
   "name": "python",
   "nbconvert_exporter": "python",
   "pygments_lexer": "ipython3",
   "version": "3.6.5"
  }
 },
 "nbformat": 4,
 "nbformat_minor": 2
}
