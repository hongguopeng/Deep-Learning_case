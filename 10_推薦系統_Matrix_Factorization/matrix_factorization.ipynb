{
 "cells": [
  {
   "cell_type": "markdown",
   "metadata": {},
   "source": [
    "     ? ⟹ 代表user沒有對item評分\n",
    "\n",
    "            ║ item1 ║ item2 ║ item3 ║ item4 ║ item5\n",
    "     ═══════════════════════════════════════════════\n",
    "      user1 ║   ?   ║   1   ║   ?   ║   3   ║   ? \n",
    "     ═══════════════════════════════════════════════  \n",
    "      user2 ║   4   ║   ?   ║   ?   ║   2   ║   ?  \n",
    "     ═══════════════════════════════════════════════             \n",
    "      user3 ║   ?   ║   ?   ║   3   ║   ?   ║   ?\n",
    "     ═══════════════════════════════════════════════          \n",
    "      user4 ║   3   ║   ?   ║   1   ║   ?   ║   3\n",
    "     ═══════════════════════════════════════════════            \n",
    "      user5 ║   4   ║   3   ║   ?   ║   4   ║   ?\n",
    "     ═══════════════════════════════════════════════          \n",
    "      user6 ║   ?   ║   1   ║   ?   ║   4   ║   ?\n",
    "<br>\n",
    "目的就是要做出 𝓤(𝓂 ✖ 𝓀) 與 𝓥(𝓀 ✖ 𝓃) 這2個矩陣所相乘的矩陣可以跟上面的矩陣越像越好(𝓂要大於6，𝓃要大於5)<br>\n",
    "而乘出來的矩陣 𝓦(𝓂 ✖ 𝓃) 的某一個 row 所對應的 column 的數值代表預測某一個user對於各個 item 的評分<br><br>\n",
    "𝓂 ⟹ 代表user的數目<br>\n",
    "𝓃 ⟹ 代表item的數目<br>\n",
    "𝓀 ⟹ 代表隱變數的數目\n",
    "<br><br>\n",
    "\n",
    "可以把上述評分表「有評分」的部分拿出來排成一列\n",
    "\n",
    "    (1 - 1) ✖ 5 ✚ 1 = 1   ➜ 1 \n",
    "    (1 - 1) ✖ 5 ✚ 3 = 3   ➜ 3  \n",
    "    (2 - 1) ✖ 5 ✚ 0 = 5   ➜ 4\n",
    "    (2 - 1) ✖ 5 ✚ 3 = 8   ➜ 2\n",
    "    (3 - 1) ✖ 5 ✚ 2 = 12  ➜ 3 \n",
    "    (4 - 1) ✖ 5 ✚ 0 = 15  ➜ 3  \n",
    "    (4 - 1) ✖ 5 ✚ 2 = 17  ➜ 1    \n",
    "    (4 - 1) ✖ 5 ✚ 4 = 19  ➜ 3 \n",
    "    (5 - 1) ✖ 5 ✚ 0 = 20  ➜ 4\n",
    "    (5 - 1) ✖ 5 ✚ 1 = 21  ➜ 3\n",
    "    (5 - 1) ✖ 5 ✚ 3 = 23  ➜ 4         \n",
    "    (6 - 1) ✖ 5 ✚ 1 = 26  ➜ 1\n",
    "    (6 - 1) ✖ 5 ✚ 3 = 28  ➜ 4 "
   ]
  },
  {
   "cell_type": "code",
   "execution_count": 1,
   "metadata": {},
   "outputs": [],
   "source": [
    "import warnings\n",
    "warnings.filterwarnings('ignore')\n",
    "import pandas as pd\n",
    "import numpy as np\n",
    "import tensorflow as tf\n",
    "import matplotlib.pyplot as plt"
   ]
  },
  {
   "cell_type": "code",
   "execution_count": 2,
   "metadata": {},
   "outputs": [
    {
     "data": {
      "text/html": [
       "<div>\n",
       "<style scoped>\n",
       "    .dataframe tbody tr th:only-of-type {\n",
       "        vertical-align: middle;\n",
       "    }\n",
       "\n",
       "    .dataframe tbody tr th {\n",
       "        vertical-align: top;\n",
       "    }\n",
       "\n",
       "    .dataframe thead th {\n",
       "        text-align: right;\n",
       "    }\n",
       "</style>\n",
       "<table border=\"1\" class=\"dataframe\">\n",
       "  <thead>\n",
       "    <tr style=\"text-align: right;\">\n",
       "      <th></th>\n",
       "      <th>user</th>\n",
       "      <th>item</th>\n",
       "      <th>rate</th>\n",
       "      <th>time</th>\n",
       "    </tr>\n",
       "  </thead>\n",
       "  <tbody>\n",
       "    <tr>\n",
       "      <th>1</th>\n",
       "      <td>186</td>\n",
       "      <td>302</td>\n",
       "      <td>3</td>\n",
       "      <td>891717742</td>\n",
       "    </tr>\n",
       "    <tr>\n",
       "      <th>2</th>\n",
       "      <td>22</td>\n",
       "      <td>377</td>\n",
       "      <td>1</td>\n",
       "      <td>878887116</td>\n",
       "    </tr>\n",
       "    <tr>\n",
       "      <th>3</th>\n",
       "      <td>244</td>\n",
       "      <td>51</td>\n",
       "      <td>2</td>\n",
       "      <td>880606923</td>\n",
       "    </tr>\n",
       "    <tr>\n",
       "      <th>6</th>\n",
       "      <td>115</td>\n",
       "      <td>265</td>\n",
       "      <td>2</td>\n",
       "      <td>881171488</td>\n",
       "    </tr>\n",
       "    <tr>\n",
       "      <th>7</th>\n",
       "      <td>253</td>\n",
       "      <td>465</td>\n",
       "      <td>5</td>\n",
       "      <td>891628467</td>\n",
       "    </tr>\n",
       "    <tr>\n",
       "      <th>9</th>\n",
       "      <td>6</td>\n",
       "      <td>86</td>\n",
       "      <td>3</td>\n",
       "      <td>883603013</td>\n",
       "    </tr>\n",
       "    <tr>\n",
       "      <th>11</th>\n",
       "      <td>286</td>\n",
       "      <td>1014</td>\n",
       "      <td>5</td>\n",
       "      <td>879781125</td>\n",
       "    </tr>\n",
       "    <tr>\n",
       "      <th>12</th>\n",
       "      <td>200</td>\n",
       "      <td>222</td>\n",
       "      <td>5</td>\n",
       "      <td>876042340</td>\n",
       "    </tr>\n",
       "    <tr>\n",
       "      <th>13</th>\n",
       "      <td>210</td>\n",
       "      <td>40</td>\n",
       "      <td>3</td>\n",
       "      <td>891035994</td>\n",
       "    </tr>\n",
       "    <tr>\n",
       "      <th>14</th>\n",
       "      <td>224</td>\n",
       "      <td>29</td>\n",
       "      <td>3</td>\n",
       "      <td>888104457</td>\n",
       "    </tr>\n",
       "  </tbody>\n",
       "</table>\n",
       "</div>"
      ],
      "text/plain": [
       "    user  item  rate       time\n",
       "1    186   302     3  891717742\n",
       "2     22   377     1  878887116\n",
       "3    244    51     2  880606923\n",
       "6    115   265     2  881171488\n",
       "7    253   465     5  891628467\n",
       "9      6    86     3  883603013\n",
       "11   286  1014     5  879781125\n",
       "12   200   222     5  876042340\n",
       "13   210    40     3  891035994\n",
       "14   224    29     3  888104457"
      ]
     },
     "execution_count": 2,
     "metadata": {},
     "output_type": "execute_result"
    }
   ],
   "source": [
    "df = pd.read_csv('user_item.data' , sep = '\\t' , names = ['user' , 'item' , 'rate' , 'time'])\n",
    "msk = np.random.rand(len(df)) < 0.7\n",
    "df_train = df.loc[msk]\n",
    "df_train.head(10)"
   ]
  },
  {
   "cell_type": "code",
   "execution_count": 3,
   "metadata": {},
   "outputs": [],
   "source": [
    "# 將有評分部分的user之index以及item之index全部取出來\n",
    "user_indecies = (np.array(df_train['user']) - 1).reshape([-1 , 1])\n",
    "item_indecies = (np.array(df_train['item']) - 1).reshape([-1 , 1])\n",
    "rates = (np.array(df_train['rate'])).reshape([-1 , 1])"
   ]
  },
  {
   "cell_type": "code",
   "execution_count": 4,
   "metadata": {},
   "outputs": [],
   "source": [
    "# 假設有950個user(可自行決定)，一定要大於user_indecies.max()；另外假設有1700個item(可自行決定)，一定要大於item_indecies.max()\n",
    "# 若沒有大於user_indecies.max()或item_indecies.max()，最後到tf.gather這一步會出錯\n",
    "user_num , item_num = 950 , 1700\n",
    "hidden_feature_num = 10\n",
    "\n",
    "# hidden_feature_num代表隱變數之數目\n",
    "U = tf.Variable(initial_value = tf.truncated_normal([user_num , hidden_feature_num]))\n",
    "V = tf.Variable(initial_value = tf.truncated_normal([hidden_feature_num , item_num]))"
   ]
  },
  {
   "cell_type": "code",
   "execution_count": 5,
   "metadata": {},
   "outputs": [],
   "source": [
    "result = tf.matmul(U , V)\n",
    "result_flatten = tf.reshape(result , [-1])\n",
    "\n",
    "# 把result_flatten中的 user_indecies * item_num + item_indecies 的項次(上述評分表有評分的部分)挑出來\n",
    "approximate_rates = tf.gather(result_flatten , user_indecies * item_num + item_indecies) "
   ]
  },
  {
   "cell_type": "code",
   "execution_count": 6,
   "metadata": {},
   "outputs": [],
   "source": [
    "λ = 0.1\n",
    "regularization = tf.reduce_mean(U) + tf.reduce_mean(V)\n",
    "cost = tf.reduce_mean(tf.square(rates - approximate_rates)) + λ * regularization\n",
    "train_step = tf.train.AdamOptimizer(0.02).minimize(cost)"
   ]
  },
  {
   "cell_type": "code",
   "execution_count": 7,
   "metadata": {},
   "outputs": [
    {
     "name": "stdout",
     "output_type": "stream",
     "text": [
      "==============================\n",
      "step : 0\n",
      "loss : 19.87\n",
      "==============================\n",
      "step : 100\n",
      "loss : 0.79\n",
      "==============================\n",
      "step : 200\n",
      "loss : 0.56\n",
      "==============================\n",
      "step : 300\n",
      "loss : 0.44\n",
      "==============================\n",
      "step : 400\n",
      "loss : 0.36\n",
      "==============================\n",
      "step : 500\n",
      "loss : 0.29\n",
      "==============================\n",
      "step : 600\n",
      "loss : 0.23\n",
      "==============================\n",
      "step : 700\n",
      "loss : 0.18\n",
      "==============================\n",
      "step : 800\n",
      "loss : 0.13\n",
      "==============================\n",
      "step : 900\n",
      "loss : 0.08\n"
     ]
    }
   ],
   "source": [
    "sess = tf.Session()\n",
    "sess.run(tf.global_variables_initializer())\n",
    "\n",
    "loss_his = []\n",
    "for step in range(0 , 1000):\n",
    "    _ , loss = sess.run([train_step , cost])\n",
    "    \n",
    "    if step % 100 == 0:\n",
    "        print('=' * 30)\n",
    "        print('step : {}'.format(step))\n",
    "        print('loss : {:.2f}'.format(loss))\n",
    "        \n",
    "    loss_his.append(loss)     "
   ]
  },
  {
   "cell_type": "code",
   "execution_count": 8,
   "metadata": {},
   "outputs": [
    {
     "data": {
      "text/plain": [
       "Text(0,0.5,'loss')"
      ]
     },
     "execution_count": 8,
     "metadata": {},
     "output_type": "execute_result"
    },
    {
     "data": {
      "image/png": "[encoded data removed]",
      "text/plain": [
       "<Figure size 720x432 with 1 Axes>"
      ]
     },
     "metadata": {},
     "output_type": "display_data"
    }
   ],
   "source": [
    "# plot cost curve\n",
    "fig , ax = plt.subplots(1 , 1 , figsize = (10 , 6))\n",
    "ax.plot(np.arange(len(loss_his)) , np.array(loss_his)) \n",
    "ax.set_xlabel('epoch' , fontsize = 20)\n",
    "ax.set_ylabel('loss' , fontsize = 20)"
   ]
  }
 ],
 "metadata": {
  "kernelspec": {
   "display_name": "Python 3",
   "language": "python",
   "name": "python3"
  },
  "language_info": {
   "codemirror_mode": {
    "name": "ipython",
    "version": 3
   },
   "file_extension": ".py",
   "mimetype": "text/x-python",
   "name": "python",
   "nbconvert_exporter": "python",
   "pygments_lexer": "ipython3",
   "version": "3.6.5"
  }
 },
 "nbformat": 4,
 "nbformat_minor": 2
}
